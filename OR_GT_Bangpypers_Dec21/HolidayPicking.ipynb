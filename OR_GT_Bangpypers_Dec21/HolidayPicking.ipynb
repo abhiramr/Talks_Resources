{
 "cells": [
  {
   "cell_type": "code",
   "execution_count": 1,
   "metadata": {
    "collapsed": true,
    "jupyter": {
     "outputs_hidden": true
    }
   },
   "outputs": [
    {
     "name": "stdout",
     "output_type": "stream",
     "text": [
      "Requirement already satisfied: pulp in /Users/abhiram/Desktop/Coding/virtual_environments/py37/lib/python3.7/site-packages (2.0)\n",
      "Requirement already satisfied: pyparsing>=2.0.1 in /Users/abhiram/Desktop/Coding/virtual_environments/py37/lib/python3.7/site-packages (from pulp) (2.4.2)\n",
      "\u001b[33mWARNING: You are using pip version 19.1, however version 19.3.1 is available.\n",
      "You should consider upgrading via the 'pip install --upgrade pip' command.\u001b[0m\n",
      "Requirement already satisfied: pandas in /Users/abhiram/Desktop/Coding/virtual_environments/py37/lib/python3.7/site-packages (0.25.3)\n",
      "Requirement already satisfied: pytz>=2017.2 in /Users/abhiram/Desktop/Coding/virtual_environments/py37/lib/python3.7/site-packages (from pandas) (2019.3)\n",
      "Requirement already satisfied: numpy>=1.13.3 in /Users/abhiram/Desktop/Coding/virtual_environments/py37/lib/python3.7/site-packages (from pandas) (1.16.1)\n",
      "Requirement already satisfied: python-dateutil>=2.6.1 in /Users/abhiram/Desktop/Coding/virtual_environments/py37/lib/python3.7/site-packages (from pandas) (2.8.0)\n",
      "Requirement already satisfied: six>=1.5 in /Users/abhiram/Desktop/Coding/virtual_environments/py37/lib/python3.7/site-packages (from python-dateutil>=2.6.1->pandas) (1.12.0)\n",
      "\u001b[33mWARNING: You are using pip version 19.1, however version 19.3.1 is available.\n",
      "You should consider upgrading via the 'pip install --upgrade pip' command.\u001b[0m\n",
      "Requirement already satisfied: matplotlib in /Users/abhiram/Desktop/Coding/virtual_environments/py37/lib/python3.7/site-packages (3.1.1)\n",
      "Requirement already satisfied: python-dateutil>=2.1 in /Users/abhiram/Desktop/Coding/virtual_environments/py37/lib/python3.7/site-packages (from matplotlib) (2.8.0)\n",
      "Requirement already satisfied: kiwisolver>=1.0.1 in /Users/abhiram/Desktop/Coding/virtual_environments/py37/lib/python3.7/site-packages (from matplotlib) (1.1.0)\n",
      "Requirement already satisfied: numpy>=1.11 in /Users/abhiram/Desktop/Coding/virtual_environments/py37/lib/python3.7/site-packages (from matplotlib) (1.16.1)\n",
      "Requirement already satisfied: pyparsing!=2.0.4,!=2.1.2,!=2.1.6,>=2.0.1 in /Users/abhiram/Desktop/Coding/virtual_environments/py37/lib/python3.7/site-packages (from matplotlib) (2.4.2)\n",
      "Requirement already satisfied: cycler>=0.10 in /Users/abhiram/Desktop/Coding/virtual_environments/py37/lib/python3.7/site-packages (from matplotlib) (0.10.0)\n",
      "Requirement already satisfied: six>=1.5 in /Users/abhiram/Desktop/Coding/virtual_environments/py37/lib/python3.7/site-packages (from python-dateutil>=2.1->matplotlib) (1.12.0)\n",
      "Requirement already satisfied: setuptools in /Users/abhiram/Desktop/Coding/virtual_environments/py37/lib/python3.7/site-packages (from kiwisolver>=1.0.1->matplotlib) (41.0.1)\n",
      "\u001b[33mWARNING: You are using pip version 19.1, however version 19.3.1 is available.\n",
      "You should consider upgrading via the 'pip install --upgrade pip' command.\u001b[0m\n",
      "Requirement already satisfied: IPython in /Users/abhiram/Desktop/Coding/virtual_environments/py37/lib/python3.7/site-packages (7.5.0)\n",
      "Requirement already satisfied: backcall in /Users/abhiram/Desktop/Coding/virtual_environments/py37/lib/python3.7/site-packages (from IPython) (0.1.0)\n",
      "Requirement already satisfied: prompt-toolkit<2.1.0,>=2.0.0 in /Users/abhiram/Desktop/Coding/virtual_environments/py37/lib/python3.7/site-packages (from IPython) (2.0.9)\n",
      "Requirement already satisfied: jedi>=0.10 in /Users/abhiram/Desktop/Coding/virtual_environments/py37/lib/python3.7/site-packages (from IPython) (0.13.3)\n",
      "Requirement already satisfied: pexpect; sys_platform != \"win32\" in /Users/abhiram/Desktop/Coding/virtual_environments/py37/lib/python3.7/site-packages (from IPython) (4.7.0)\n",
      "Requirement already satisfied: decorator in /Users/abhiram/Desktop/Coding/virtual_environments/py37/lib/python3.7/site-packages (from IPython) (4.4.0)\n",
      "Requirement already satisfied: pickleshare in /Users/abhiram/Desktop/Coding/virtual_environments/py37/lib/python3.7/site-packages (from IPython) (0.7.5)\n",
      "Requirement already satisfied: pygments in /Users/abhiram/Desktop/Coding/virtual_environments/py37/lib/python3.7/site-packages (from IPython) (2.3.1)\n",
      "Requirement already satisfied: traitlets>=4.2 in /Users/abhiram/Desktop/Coding/virtual_environments/py37/lib/python3.7/site-packages (from IPython) (4.3.2)\n",
      "Requirement already satisfied: appnope; sys_platform == \"darwin\" in /Users/abhiram/Desktop/Coding/virtual_environments/py37/lib/python3.7/site-packages (from IPython) (0.1.0)\n",
      "Requirement already satisfied: setuptools>=18.5 in /Users/abhiram/Desktop/Coding/virtual_environments/py37/lib/python3.7/site-packages (from IPython) (41.0.1)\n",
      "Requirement already satisfied: six>=1.9.0 in /Users/abhiram/Desktop/Coding/virtual_environments/py37/lib/python3.7/site-packages (from prompt-toolkit<2.1.0,>=2.0.0->IPython) (1.12.0)\n",
      "Requirement already satisfied: wcwidth in /Users/abhiram/Desktop/Coding/virtual_environments/py37/lib/python3.7/site-packages (from prompt-toolkit<2.1.0,>=2.0.0->IPython) (0.1.7)\n",
      "Requirement already satisfied: parso>=0.3.0 in /Users/abhiram/Desktop/Coding/virtual_environments/py37/lib/python3.7/site-packages (from jedi>=0.10->IPython) (0.4.0)\n",
      "Requirement already satisfied: ptyprocess>=0.5 in /Users/abhiram/Desktop/Coding/virtual_environments/py37/lib/python3.7/site-packages (from pexpect; sys_platform != \"win32\"->IPython) (0.6.0)\n",
      "Requirement already satisfied: ipython-genutils in /Users/abhiram/Desktop/Coding/virtual_environments/py37/lib/python3.7/site-packages (from traitlets>=4.2->IPython) (0.2.0)\n",
      "\u001b[33mWARNING: You are using pip version 19.1, however version 19.3.1 is available.\n",
      "You should consider upgrading via the 'pip install --upgrade pip' command.\u001b[0m\n"
     ]
    }
   ],
   "source": [
    "!pip install pulp\n",
    "!pip install pandas\n",
    "!pip install matplotlib\n",
    "!pip install IPython"
   ]
  },
  {
   "cell_type": "code",
   "execution_count": 8,
   "metadata": {},
   "outputs": [],
   "source": [
    "from pulp import *\n",
    "import numpy as np\n",
    "import pandas as pd\n",
    "import re \n",
    "import matplotlib.pyplot as plt\n",
    "from IPython.display import Image"
   ]
  },
  {
   "cell_type": "code",
   "execution_count": null,
   "metadata": {},
   "outputs": [],
   "source": []
  },
  {
   "cell_type": "code",
   "execution_count": 3,
   "metadata": {},
   "outputs": [],
   "source": [
    "%matplotlib inline"
   ]
  },
  {
   "cell_type": "code",
   "execution_count": 4,
   "metadata": {},
   "outputs": [],
   "source": [
    "pd.set_option('display.max_colwidth',400)"
   ]
  },
  {
   "cell_type": "code",
   "execution_count": 9,
   "metadata": {},
   "outputs": [],
   "source": [
    "data = pd.read_csv('../Data/Misc/kerala_vacay1.csv',delimiter=\"\\t\") #Data from Makemytrip"
   ]
  },
  {
   "cell_type": "code",
   "execution_count": 10,
   "metadata": {},
   "outputs": [
    {
     "data": {
      "text/html": [
       "<div>\n",
       "<style scoped>\n",
       "    .dataframe tbody tr th:only-of-type {\n",
       "        vertical-align: middle;\n",
       "    }\n",
       "\n",
       "    .dataframe tbody tr th {\n",
       "        vertical-align: top;\n",
       "    }\n",
       "\n",
       "    .dataframe thead th {\n",
       "        text-align: right;\n",
       "    }\n",
       "</style>\n",
       "<table border=\"1\" class=\"dataframe\">\n",
       "  <thead>\n",
       "    <tr style=\"text-align: right;\">\n",
       "      <th></th>\n",
       "      <th>destination</th>\n",
       "      <th>duration</th>\n",
       "      <th>cost</th>\n",
       "      <th>description</th>\n",
       "    </tr>\n",
       "  </thead>\n",
       "  <tbody>\n",
       "    <tr>\n",
       "      <th>0</th>\n",
       "      <td>Mini Kerala_F</td>\n",
       "      <td>4</td>\n",
       "      <td>24284</td>\n",
       "      <td>2N Munnar - 1N Thekkady - 1N Allepey</td>\n",
       "    </tr>\n",
       "    <tr>\n",
       "      <th>1</th>\n",
       "      <td>Splendours of Kerala</td>\n",
       "      <td>5</td>\n",
       "      <td>28042</td>\n",
       "      <td>1N Cochin - 2N Munnar - 1N Thekkady - 1N Allepey</td>\n",
       "    </tr>\n",
       "    <tr>\n",
       "      <th>2</th>\n",
       "      <td>Kerala - A Lovers Paradise</td>\n",
       "      <td>6</td>\n",
       "      <td>33404</td>\n",
       "      <td>2N Munnar - 1N Thekkady - 1N Allepey - 2N Kovalam and Poovar</td>\n",
       "    </tr>\n",
       "    <tr>\n",
       "      <th>3</th>\n",
       "      <td>Mini Kerala_WF</td>\n",
       "      <td>4</td>\n",
       "      <td>11574</td>\n",
       "      <td>2N Munnar - 1N Thekkady - 1N Allepey</td>\n",
       "    </tr>\n",
       "    <tr>\n",
       "      <th>4</th>\n",
       "      <td>Kerala Paradise</td>\n",
       "      <td>6</td>\n",
       "      <td>31148</td>\n",
       "      <td>2N Munnar - 1N Thekkady - 2N Kovalam and Poovar - 1N Allepey</td>\n",
       "    </tr>\n",
       "    <tr>\n",
       "      <th>5</th>\n",
       "      <td>A Relaxing holiday to Kerala</td>\n",
       "      <td>7</td>\n",
       "      <td>36221</td>\n",
       "      <td>1N Cochin - 2N Munnar - 1N Thekkady - 1N Allepey - 2N Kovalam and Poovar</td>\n",
       "    </tr>\n",
       "    <tr>\n",
       "      <th>6</th>\n",
       "      <td>Kerala Memories</td>\n",
       "      <td>5</td>\n",
       "      <td>33800</td>\n",
       "      <td>2N Munnar - 1N Allepey - 2N Kovalam and Poovar</td>\n",
       "    </tr>\n",
       "    <tr>\n",
       "      <th>7</th>\n",
       "      <td>Made in Heaven - Vibrant Kerala</td>\n",
       "      <td>5</td>\n",
       "      <td>26714</td>\n",
       "      <td>3N Munnar - 1N Thekkady - 1N Allepey</td>\n",
       "    </tr>\n",
       "    <tr>\n",
       "      <th>8</th>\n",
       "      <td>A Short Trip to Allepey and Munnar</td>\n",
       "      <td>3</td>\n",
       "      <td>22267</td>\n",
       "      <td>1N Allepey - 2N Munnar</td>\n",
       "    </tr>\n",
       "    <tr>\n",
       "      <th>9</th>\n",
       "      <td>Mini Kerala with Shared Vehicle</td>\n",
       "      <td>4</td>\n",
       "      <td>10999</td>\n",
       "      <td>2N Munnar - 1N Thekkady - 1N Allepey</td>\n",
       "    </tr>\n",
       "  </tbody>\n",
       "</table>\n",
       "</div>"
      ],
      "text/plain": [
       "                          destination  duration   cost  \\\n",
       "0                       Mini Kerala_F         4  24284   \n",
       "1                Splendours of Kerala         5  28042   \n",
       "2          Kerala - A Lovers Paradise         6  33404   \n",
       "3                      Mini Kerala_WF         4  11574   \n",
       "4                     Kerala Paradise         6  31148   \n",
       "5        A Relaxing holiday to Kerala         7  36221   \n",
       "6                     Kerala Memories         5  33800   \n",
       "7     Made in Heaven - Vibrant Kerala         5  26714   \n",
       "8  A Short Trip to Allepey and Munnar         3  22267   \n",
       "9     Mini Kerala with Shared Vehicle         4  10999   \n",
       "\n",
       "                                                                description  \n",
       "0                                      2N Munnar - 1N Thekkady - 1N Allepey  \n",
       "1                          1N Cochin - 2N Munnar - 1N Thekkady - 1N Allepey  \n",
       "2              2N Munnar - 1N Thekkady - 1N Allepey - 2N Kovalam and Poovar  \n",
       "3                                      2N Munnar - 1N Thekkady - 1N Allepey  \n",
       "4              2N Munnar - 1N Thekkady - 2N Kovalam and Poovar - 1N Allepey  \n",
       "5  1N Cochin - 2N Munnar - 1N Thekkady - 1N Allepey - 2N Kovalam and Poovar  \n",
       "6                            2N Munnar - 1N Allepey - 2N Kovalam and Poovar  \n",
       "7                                      3N Munnar - 1N Thekkady - 1N Allepey  \n",
       "8                                                    1N Allepey - 2N Munnar  \n",
       "9                                      2N Munnar - 1N Thekkady - 1N Allepey  "
      ]
     },
     "execution_count": 10,
     "metadata": {},
     "output_type": "execute_result"
    }
   ],
   "source": [
    "data"
   ]
  },
  {
   "cell_type": "code",
   "execution_count": 11,
   "metadata": {},
   "outputs": [
    {
     "data": {
      "image/png": "[encoded data removed]",
      "text/plain": [
       "<Figure size 432x288 with 2 Axes>"
      ]
     },
     "metadata": {
      "needs_background": "light"
     },
     "output_type": "display_data"
    }
   ],
   "source": [
    "fig, axs = plt.subplots(1,2)\n",
    "my_plot = data[['destination', 'cost']].plot(kind='bar', title=\"Destination by Cost\", ax=axs[0])\n",
    "my_plot = data[['destination', 'duration']].plot(kind='bar', title=\"Destination by Duration\", ax=axs[1])"
   ]
  },
  {
   "cell_type": "code",
   "execution_count": 12,
   "metadata": {},
   "outputs": [],
   "source": [
    "# create the LP object, set up as a minimization problem --> since we want to minimize the costs \n",
    "\n",
    "prob = pulp.LpProblem('KeralaTrip', pulp.LpMinimize)"
   ]
  },
  {
   "cell_type": "markdown",
   "metadata": {},
   "source": [
    "### Create Decision Variables:"
   ]
  },
  {
   "cell_type": "code",
   "execution_count": 13,
   "metadata": {},
   "outputs": [
    {
     "name": "stdout",
     "output_type": "stream",
     "text": [
      "Total number of decision_variables: 10\n",
      "Array with Decision Variables:[x0, x1, x2, x3, x4, x5, x6, x7, x8, x9]\n"
     ]
    }
   ],
   "source": [
    "decision_variables = []\n",
    "for rownum, row in data.iterrows():\n",
    "\tvariable = str('x' + str(rownum))\n",
    "\tvariable = pulp.LpVariable(str(variable), lowBound = 0, upBound = 1, cat= 'Integer') #make variables binary\n",
    "\tdecision_variables.append(variable)\n",
    "\n",
    "print (\"Total number of decision_variables: \" + str(len(decision_variables)))\n",
    "print (\"Array with Decision Variables:\" + str(decision_variables))"
   ]
  },
  {
   "cell_type": "markdown",
   "metadata": {},
   "source": [
    "Define Objective Function: (Minimixing the Cost of The Trip)\n",
    "\n",
    "The variable prob now begins collecting problem data with the += operator. The objective function is logically entered first, with an important comma , at the end of the statement and a short string explaining what this objective function is:"
   ]
  },
  {
   "cell_type": "code",
   "execution_count": 14,
   "metadata": {},
   "outputs": [
    {
     "name": "stdout",
     "output_type": "stream",
     "text": [
      "Optimization function: 24284*x0 + 28042*x1 + 33404*x2 + 11574*x3 + 31148*x4 + 36221*x5 + 33800*x6 + 26714*x7 + 22267*x8 + 10999*x9\n"
     ]
    }
   ],
   "source": [
    "total_cost = \"\"\n",
    "for rownum, row in data.iterrows():\n",
    "\tfor i, schedule in enumerate(decision_variables):\n",
    "\t\tif rownum == i:\n",
    "\t\t\tformula = row['cost']*schedule\n",
    "\t\t\ttotal_cost += formula\n",
    "\n",
    "prob += total_cost\n",
    "print (\"Optimization function: \" + str(total_cost))"
   ]
  },
  {
   "cell_type": "markdown",
   "metadata": {},
   "source": [
    "Define Constrains: (Selected Packages should not exceed total vacation days available)\n",
    "\n"
   ]
  },
  {
   "cell_type": "code",
   "execution_count": 15,
   "metadata": {},
   "outputs": [],
   "source": [
    "aval_vacation_days = 5\n",
    "total_vacation_days = \"\"\n",
    "for rownum, row in data.iterrows():\n",
    "\tfor i, schedule in enumerate(decision_variables):\n",
    "\t\tif rownum == i:\n",
    "\t\t\tformula = row['duration']*schedule\n",
    "\t\t\ttotal_vacation_days += formula\n",
    "\n",
    "prob += (total_vacation_days == aval_vacation_days)"
   ]
  },
  {
   "cell_type": "code",
   "execution_count": 16,
   "metadata": {},
   "outputs": [
    {
     "name": "stdout",
     "output_type": "stream",
     "text": [
      "KeralaTrip:\n",
      "MINIMIZE\n",
      "24284*x0 + 28042*x1 + 33404*x2 + 11574*x3 + 31148*x4 + 36221*x5 + 33800*x6 + 26714*x7 + 22267*x8 + 10999*x9 + 0\n",
      "SUBJECT TO\n",
      "_C1: 4 x0 + 5 x1 + 6 x2 + 4 x3 + 6 x4 + 7 x5 + 5 x6 + 5 x7 + 3 x8 + 4 x9 = 5\n",
      "\n",
      "VARIABLES\n",
      "0 <= x0 <= 1 Integer\n",
      "0 <= x1 <= 1 Integer\n",
      "0 <= x2 <= 1 Integer\n",
      "0 <= x3 <= 1 Integer\n",
      "0 <= x4 <= 1 Integer\n",
      "0 <= x5 <= 1 Integer\n",
      "0 <= x6 <= 1 Integer\n",
      "0 <= x7 <= 1 Integer\n",
      "0 <= x8 <= 1 Integer\n",
      "0 <= x9 <= 1 Integer\n",
      "\n"
     ]
    },
    {
     "data": {
      "text/plain": [
       "[x0, x1, x2, x3, x4, x5, x6, x7, x8, x9]"
      ]
     },
     "execution_count": 16,
     "metadata": {},
     "output_type": "execute_result"
    }
   ],
   "source": [
    "print(prob)\n",
    "prob.writeLP(\"GoingOnVacation.lp\" )"
   ]
  },
  {
   "cell_type": "markdown",
   "metadata": {},
   "source": [
    "The Actual Optimization:"
   ]
  },
  {
   "cell_type": "code",
   "execution_count": 17,
   "metadata": {},
   "outputs": [
    {
     "name": "stdout",
     "output_type": "stream",
     "text": [
      "Status: Optimal\n",
      "Optimal Solution to the problem:  26714.0\n",
      "Individual decision_variables: \n",
      "x0 = 0.0\n",
      "x1 = 0.0\n",
      "x2 = 0.0\n",
      "x3 = 0.0\n",
      "x4 = 0.0\n",
      "x5 = 0.0\n",
      "x6 = 0.0\n",
      "x7 = 1.0\n",
      "x8 = 0.0\n",
      "x9 = 0.0\n"
     ]
    }
   ],
   "source": [
    "optimization_result = prob.solve()\n",
    "\n",
    "assert optimization_result == pulp.LpStatusOptimal\n",
    "print(\"Status:\", LpStatus[prob.status])\n",
    "print(\"Optimal Solution to the problem: \", value(prob.objective))\n",
    "print (\"Individual decision_variables: \")\n",
    "for v in prob.variables():\n",
    "\tprint(v.name, \"=\", v.varValue)"
   ]
  },
  {
   "cell_type": "code",
   "execution_count": 18,
   "metadata": {},
   "outputs": [
    {
     "name": "stderr",
     "output_type": "stream",
     "text": [
      "/Users/abhiram/Desktop/Coding/virtual_environments/py37/lib/python3.7/site-packages/ipykernel_launcher.py:13: FutureWarning: by argument to sort_index is deprecated, please use .sort_values(by=...)\n",
      "  del sys.path[0]\n"
     ]
    },
    {
     "data": {
      "text/html": [
       "<div>\n",
       "<style scoped>\n",
       "    .dataframe tbody tr th:only-of-type {\n",
       "        vertical-align: middle;\n",
       "    }\n",
       "\n",
       "    .dataframe tbody tr th {\n",
       "        vertical-align: top;\n",
       "    }\n",
       "\n",
       "    .dataframe thead th {\n",
       "        text-align: right;\n",
       "    }\n",
       "</style>\n",
       "<table border=\"1\" class=\"dataframe\">\n",
       "  <thead>\n",
       "    <tr style=\"text-align: right;\">\n",
       "      <th></th>\n",
       "      <th>destination</th>\n",
       "      <th>duration</th>\n",
       "      <th>cost</th>\n",
       "      <th>description</th>\n",
       "      <th>decision</th>\n",
       "    </tr>\n",
       "  </thead>\n",
       "  <tbody>\n",
       "    <tr>\n",
       "      <th>0</th>\n",
       "      <td>Mini Kerala_F</td>\n",
       "      <td>4</td>\n",
       "      <td>24284</td>\n",
       "      <td>2N Munnar - 1N Thekkady - 1N Allepey</td>\n",
       "      <td>0.0</td>\n",
       "    </tr>\n",
       "    <tr>\n",
       "      <th>1</th>\n",
       "      <td>Splendours of Kerala</td>\n",
       "      <td>5</td>\n",
       "      <td>28042</td>\n",
       "      <td>1N Cochin - 2N Munnar - 1N Thekkady - 1N Allepey</td>\n",
       "      <td>0.0</td>\n",
       "    </tr>\n",
       "    <tr>\n",
       "      <th>2</th>\n",
       "      <td>Kerala - A Lovers Paradise</td>\n",
       "      <td>6</td>\n",
       "      <td>33404</td>\n",
       "      <td>2N Munnar - 1N Thekkady - 1N Allepey - 2N Kovalam and Poovar</td>\n",
       "      <td>0.0</td>\n",
       "    </tr>\n",
       "    <tr>\n",
       "      <th>3</th>\n",
       "      <td>Mini Kerala_WF</td>\n",
       "      <td>4</td>\n",
       "      <td>11574</td>\n",
       "      <td>2N Munnar - 1N Thekkady - 1N Allepey</td>\n",
       "      <td>0.0</td>\n",
       "    </tr>\n",
       "    <tr>\n",
       "      <th>4</th>\n",
       "      <td>Kerala Paradise</td>\n",
       "      <td>6</td>\n",
       "      <td>31148</td>\n",
       "      <td>2N Munnar - 1N Thekkady - 2N Kovalam and Poovar - 1N Allepey</td>\n",
       "      <td>0.0</td>\n",
       "    </tr>\n",
       "  </tbody>\n",
       "</table>\n",
       "</div>"
      ],
      "text/plain": [
       "                  destination  duration   cost  \\\n",
       "0               Mini Kerala_F         4  24284   \n",
       "1        Splendours of Kerala         5  28042   \n",
       "2  Kerala - A Lovers Paradise         6  33404   \n",
       "3              Mini Kerala_WF         4  11574   \n",
       "4             Kerala Paradise         6  31148   \n",
       "\n",
       "                                                    description  decision  \n",
       "0                          2N Munnar - 1N Thekkady - 1N Allepey       0.0  \n",
       "1              1N Cochin - 2N Munnar - 1N Thekkady - 1N Allepey       0.0  \n",
       "2  2N Munnar - 1N Thekkady - 1N Allepey - 2N Kovalam and Poovar       0.0  \n",
       "3                          2N Munnar - 1N Thekkady - 1N Allepey       0.0  \n",
       "4  2N Munnar - 1N Thekkady - 2N Kovalam and Poovar - 1N Allepey       0.0  "
      ]
     },
     "execution_count": 18,
     "metadata": {},
     "output_type": "execute_result"
    }
   ],
   "source": [
    "variable_name = []\n",
    "variable_value = []\n",
    "\n",
    "for v in prob.variables():\n",
    "\tvariable_name.append(v.name)\n",
    "\tvariable_value.append(v.varValue)\n",
    "\n",
    "df = pd.DataFrame({'variable': variable_name, 'value': variable_value})\n",
    "for rownum, row in df.iterrows():\n",
    "\tvalue_ = re.findall(r'(\\d+)', row['variable'])\n",
    "\tdf.loc[rownum, 'variable'] = int(value_[0])\n",
    "\n",
    "df = df.sort_index(by='variable')\n",
    "\n",
    "#append results\n",
    "for rownum, row in data.iterrows():\n",
    "\tfor results_rownum, results_row in df.iterrows():\n",
    "\t\tif rownum == results_row['variable']:\n",
    "\t\t\tdata.loc[rownum, 'decision'] = results_row['value']\n",
    "            \n",
    "data[:5]"
   ]
  },
  {
   "cell_type": "markdown",
   "metadata": {},
   "source": [
    "The Final Decisions and Results of the Optimization in the \"User Friendly Way\":"
   ]
  },
  {
   "cell_type": "code",
   "execution_count": 19,
   "metadata": {},
   "outputs": [
    {
     "data": {
      "text/html": [
       "<div>\n",
       "<style scoped>\n",
       "    .dataframe tbody tr th:only-of-type {\n",
       "        vertical-align: middle;\n",
       "    }\n",
       "\n",
       "    .dataframe tbody tr th {\n",
       "        vertical-align: top;\n",
       "    }\n",
       "\n",
       "    .dataframe thead th {\n",
       "        text-align: right;\n",
       "    }\n",
       "</style>\n",
       "<table border=\"1\" class=\"dataframe\">\n",
       "  <thead>\n",
       "    <tr style=\"text-align: right;\">\n",
       "      <th></th>\n",
       "      <th>destination</th>\n",
       "      <th>duration</th>\n",
       "      <th>cost</th>\n",
       "      <th>description</th>\n",
       "      <th>decision</th>\n",
       "    </tr>\n",
       "  </thead>\n",
       "  <tbody>\n",
       "    <tr>\n",
       "      <th>7</th>\n",
       "      <td>Made in Heaven - Vibrant Kerala</td>\n",
       "      <td>5</td>\n",
       "      <td>26714</td>\n",
       "      <td>3N Munnar - 1N Thekkady - 1N Allepey</td>\n",
       "      <td>1.0</td>\n",
       "    </tr>\n",
       "  </tbody>\n",
       "</table>\n",
       "</div>"
      ],
      "text/plain": [
       "                       destination  duration   cost  \\\n",
       "7  Made in Heaven - Vibrant Kerala         5  26714   \n",
       "\n",
       "                            description  decision  \n",
       "7  3N Munnar - 1N Thekkady - 1N Allepey       1.0  "
      ]
     },
     "execution_count": 19,
     "metadata": {},
     "output_type": "execute_result"
    }
   ],
   "source": [
    "data[data['decision'] == 1]"
   ]
  },
  {
   "cell_type": "code",
   "execution_count": 22,
   "metadata": {},
   "outputs": [],
   "source": [
    "def return_optimal_solution(vacay_days):\n",
    "    try:\n",
    "        prob = pulp.LpProblem('KeralaTrip', pulp.LpMinimize)\n",
    "\n",
    "        decision_variables = []\n",
    "        for rownum, row in data.iterrows():\n",
    "            variable = str('x' + str(rownum))\n",
    "            variable = pulp.LpVariable(str(variable), lowBound = 0, upBound = 1, cat= 'Integer') #make variables binary\n",
    "            decision_variables.append(variable)\n",
    "\n",
    "        print (\"Total number of decision_variables: \" + str(len(decision_variables)))\n",
    "        print (\"Array with Decision Variables:\" + str(decision_variables)+\"\\n\")\n",
    "\n",
    "        total_cost = \"\"\n",
    "        for rownum, row in data.iterrows():\n",
    "            for i, schedule in enumerate(decision_variables):\n",
    "                if rownum == i:\n",
    "                    formula = row['cost']*schedule\n",
    "                    total_cost += formula\n",
    "\n",
    "        prob += total_cost\n",
    "        print (\"Optimization function: \" + str(total_cost))\n",
    "        aval_vacation_days = vacay_days\n",
    "        total_vacation_days = \"\"\n",
    "        for rownum, row in data.iterrows():\n",
    "            for i, schedule in enumerate(decision_variables):\n",
    "                if rownum == i:\n",
    "                    formula = row['duration']*schedule\n",
    "                    total_vacation_days += formula\n",
    "\n",
    "        prob += (total_vacation_days == aval_vacation_days)\n",
    "        print(prob)\n",
    "        prob.writeLP(\"GoingOnVacation.lp\" )\n",
    "        optimization_result = prob.solve()\n",
    "\n",
    "        assert optimization_result == pulp.LpStatusOptimal\n",
    "        print(\"Status:\", LpStatus[prob.status])\n",
    "        print(\"Optimal Solution to the problem: \", value(prob.objective))\n",
    "        print (\"Individual decision_variables: \")\n",
    "        for v in prob.variables():\n",
    "            print(v.name, \"=\", v.varValue)\n",
    "\n",
    "        variable_name = []\n",
    "        variable_value = []\n",
    "\n",
    "        for v in prob.variables():\n",
    "            variable_name.append(v.name)\n",
    "            variable_value.append(v.varValue)\n",
    "\n",
    "        df = pd.DataFrame({'variable': variable_name, 'value': variable_value})\n",
    "        for rownum, row in df.iterrows():\n",
    "            value_ = re.findall(r'(\\d+)', row['variable'])\n",
    "            df.loc[rownum, 'variable'] = int(value_[0])\n",
    "\n",
    "        df = df.sort_index(by='variable')\n",
    "\n",
    "        #append results\n",
    "        for rownum, row in data.iterrows():\n",
    "            for results_rownum, results_row in df.iterrows():\n",
    "                if rownum == results_row['variable']:\n",
    "                    data.loc[rownum, 'decision'] = results_row['value']\n",
    "\n",
    "        print(data)\n",
    "        print(data[data['decision'] == 1])\n",
    "    except Exception as e:\n",
    "        print(\"Ask for more leaves, dummy\")"
   ]
  },
  {
   "cell_type": "code",
   "execution_count": 23,
   "metadata": {},
   "outputs": [
    {
     "name": "stdout",
     "output_type": "stream",
     "text": [
      "Total number of decision_variables: 10\n",
      "Array with Decision Variables:[x0, x1, x2, x3, x4, x5, x6, x7, x8, x9]\n",
      "\n",
      "Optimization function: 24284*x0 + 28042*x1 + 33404*x2 + 11574*x3 + 31148*x4 + 36221*x5 + 33800*x6 + 26714*x7 + 22267*x8 + 10999*x9\n",
      "KeralaTrip:\n",
      "MINIMIZE\n",
      "24284*x0 + 28042*x1 + 33404*x2 + 11574*x3 + 31148*x4 + 36221*x5 + 33800*x6 + 26714*x7 + 22267*x8 + 10999*x9 + 0\n",
      "SUBJECT TO\n",
      "_C1: 4 x0 + 5 x1 + 6 x2 + 4 x3 + 6 x4 + 7 x5 + 5 x6 + 5 x7 + 3 x8 + 4 x9 = 2\n",
      "\n",
      "VARIABLES\n",
      "0 <= x0 <= 1 Integer\n",
      "0 <= x1 <= 1 Integer\n",
      "0 <= x2 <= 1 Integer\n",
      "0 <= x3 <= 1 Integer\n",
      "0 <= x4 <= 1 Integer\n",
      "0 <= x5 <= 1 Integer\n",
      "0 <= x6 <= 1 Integer\n",
      "0 <= x7 <= 1 Integer\n",
      "0 <= x8 <= 1 Integer\n",
      "0 <= x9 <= 1 Integer\n",
      "\n",
      "Ask for more leaves, dummy\n"
     ]
    }
   ],
   "source": [
    "return_optimal_solution(2)"
   ]
  },
  {
   "cell_type": "code",
   "execution_count": null,
   "metadata": {},
   "outputs": [],
   "source": []
  }
 ],
 "metadata": {
  "kernelspec": {
   "display_name": "Python 3",
   "language": "python",
   "name": "python3"
  },
  "language_info": {
   "codemirror_mode": {
    "name": "ipython",
    "version": 3
   },
   "file_extension": ".py",
   "mimetype": "text/x-python",
   "name": "python",
   "nbconvert_exporter": "python",
   "pygments_lexer": "ipython3",
   "version": "3.7.3"
  }
 },
 "nbformat": 4,
 "nbformat_minor": 4
}
