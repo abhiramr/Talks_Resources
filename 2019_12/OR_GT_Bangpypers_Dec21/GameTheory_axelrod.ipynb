{
 "cells": [
  {
   "cell_type": "code",
   "execution_count": 1,
   "metadata": {
    "collapsed": true,
    "jupyter": {
     "outputs_hidden": true
    }
   },
   "outputs": [
    {
     "name": "stdout",
     "output_type": "stream",
     "text": [
      "Requirement already satisfied: axelrod in /Users/abhiram/Desktop/Coding/virtual_environments/py37/lib/python3.7/site-packages (4.8.0)\n",
      "Requirement already satisfied: numpy>=1.9.2 in /Users/abhiram/Desktop/Coding/virtual_environments/py37/lib/python3.7/site-packages (from axelrod) (1.16.1)\n",
      "Requirement already satisfied: fsspec>=0.4.3 in /Users/abhiram/Desktop/Coding/virtual_environments/py37/lib/python3.7/site-packages (from axelrod) (0.6.2)\n",
      "Requirement already satisfied: pandas>=0.18.1 in /Users/abhiram/Desktop/Coding/virtual_environments/py37/lib/python3.7/site-packages (from axelrod) (0.25.3)\n",
      "Requirement already satisfied: prompt-toolkit>=1.0.7 in /Users/abhiram/Desktop/Coding/virtual_environments/py37/lib/python3.7/site-packages (from axelrod) (2.0.9)\n",
      "Requirement already satisfied: scipy>=0.19.0 in /Users/abhiram/Desktop/Coding/virtual_environments/py37/lib/python3.7/site-packages (from axelrod) (1.3.1)\n",
      "Requirement already satisfied: toolz>=0.8.0 in /Users/abhiram/Desktop/Coding/virtual_environments/py37/lib/python3.7/site-packages (from axelrod) (0.10.0)\n",
      "Requirement already satisfied: dask>=2.3.0 in /Users/abhiram/Desktop/Coding/virtual_environments/py37/lib/python3.7/site-packages (from axelrod) (2.9.0)\n",
      "Requirement already satisfied: matplotlib>=2.0.0 in /Users/abhiram/Desktop/Coding/virtual_environments/py37/lib/python3.7/site-packages (from axelrod) (3.1.1)\n",
      "Requirement already satisfied: cloudpickle>=0.2.1 in /Users/abhiram/Desktop/Coding/virtual_environments/py37/lib/python3.7/site-packages (from axelrod) (1.2.2)\n",
      "Requirement already satisfied: tqdm>=3.4.0 in /Users/abhiram/Desktop/Coding/virtual_environments/py37/lib/python3.7/site-packages (from axelrod) (4.41.0)\n",
      "Requirement already satisfied: pytz>=2017.2 in /Users/abhiram/Desktop/Coding/virtual_environments/py37/lib/python3.7/site-packages (from pandas>=0.18.1->axelrod) (2019.3)\n",
      "Requirement already satisfied: python-dateutil>=2.6.1 in /Users/abhiram/Desktop/Coding/virtual_environments/py37/lib/python3.7/site-packages (from pandas>=0.18.1->axelrod) (2.8.0)\n",
      "Requirement already satisfied: six>=1.9.0 in /Users/abhiram/Desktop/Coding/virtual_environments/py37/lib/python3.7/site-packages (from prompt-toolkit>=1.0.7->axelrod) (1.12.0)\n",
      "Requirement already satisfied: wcwidth in /Users/abhiram/Desktop/Coding/virtual_environments/py37/lib/python3.7/site-packages (from prompt-toolkit>=1.0.7->axelrod) (0.1.7)\n",
      "Requirement already satisfied: kiwisolver>=1.0.1 in /Users/abhiram/Desktop/Coding/virtual_environments/py37/lib/python3.7/site-packages (from matplotlib>=2.0.0->axelrod) (1.1.0)\n",
      "Requirement already satisfied: pyparsing!=2.0.4,!=2.1.2,!=2.1.6,>=2.0.1 in /Users/abhiram/Desktop/Coding/virtual_environments/py37/lib/python3.7/site-packages (from matplotlib>=2.0.0->axelrod) (2.4.2)\n",
      "Requirement already satisfied: cycler>=0.10 in /Users/abhiram/Desktop/Coding/virtual_environments/py37/lib/python3.7/site-packages (from matplotlib>=2.0.0->axelrod) (0.10.0)\n",
      "Requirement already satisfied: setuptools in /Users/abhiram/Desktop/Coding/virtual_environments/py37/lib/python3.7/site-packages (from kiwisolver>=1.0.1->matplotlib>=2.0.0->axelrod) (41.0.1)\n",
      "\u001b[33mWARNING: You are using pip version 19.1, however version 19.3.1 is available.\n",
      "You should consider upgrading via the 'pip install --upgrade pip' command.\u001b[0m\n"
     ]
    }
   ],
   "source": [
    "!pip install axelrod"
   ]
  },
  {
   "cell_type": "code",
   "execution_count": 2,
   "metadata": {},
   "outputs": [],
   "source": [
    "import axelrod as ax"
   ]
  },
  {
   "cell_type": "code",
   "execution_count": 21,
   "metadata": {},
   "outputs": [
    {
     "data": {
      "text/plain": [
       "(Cooperator, Defector, Tit For Tat)"
      ]
     },
     "execution_count": 21,
     "metadata": {},
     "output_type": "execute_result"
    }
   ],
   "source": [
    "player1 = ax.Cooperator()\n",
    "player2 = ax.Defector()\n",
    "player3 = ax.TitForTat()\n",
    "\n",
    "\n",
    "player1,player2,player3"
   ]
  },
  {
   "cell_type": "code",
   "execution_count": 22,
   "metadata": {},
   "outputs": [
    {
     "data": {
      "text/plain": [
       "([(C, D), (C, D), (C, D), (C, D), (C, D)], (0, 25))"
      ]
     },
     "execution_count": 22,
     "metadata": {},
     "output_type": "execute_result"
    }
   ],
   "source": [
    "match = ax.Match([player1,player2],5)\n",
    "match.play(),match.final_score()"
   ]
  },
  {
   "cell_type": "code",
   "execution_count": 23,
   "metadata": {},
   "outputs": [
    {
     "data": {
      "text/plain": [
       "([(C, C), (C, C), (C, C), (C, C), (C, C)], (15, 15))"
      ]
     },
     "execution_count": 23,
     "metadata": {},
     "output_type": "execute_result"
    }
   ],
   "source": [
    "match = ax.Match([player1,player3],5)\n",
    "match.play(),match.final_score()"
   ]
  },
  {
   "cell_type": "code",
   "execution_count": 24,
   "metadata": {},
   "outputs": [
    {
     "data": {
      "text/plain": [
       "([(D, C), (D, D), (D, D), (D, D), (D, D)], (9, 4))"
      ]
     },
     "execution_count": 24,
     "metadata": {},
     "output_type": "execute_result"
    }
   ],
   "source": [
    "match = ax.Match([player2,player3],5)\n",
    "match.play(),match.final_score()"
   ]
  },
  {
   "cell_type": "markdown",
   "metadata": {},
   "source": [
    "# Tournament"
   ]
  },
  {
   "cell_type": "code",
   "execution_count": 25,
   "metadata": {},
   "outputs": [],
   "source": [
    "players = [ax.Cooperator() for i in range(5)] + [ax.Defector() for i in range(5)]"
   ]
  },
  {
   "cell_type": "code",
   "execution_count": 26,
   "metadata": {},
   "outputs": [
    {
     "data": {
      "text/plain": [
       "[Cooperator,\n",
       " Cooperator,\n",
       " Cooperator,\n",
       " Cooperator,\n",
       " Cooperator,\n",
       " Defector,\n",
       " Defector,\n",
       " Defector,\n",
       " Defector,\n",
       " Defector]"
      ]
     },
     "execution_count": 26,
     "metadata": {},
     "output_type": "execute_result"
    }
   ],
   "source": [
    "players"
   ]
  },
  {
   "cell_type": "code",
   "execution_count": 27,
   "metadata": {},
   "outputs": [],
   "source": [
    "mp = ax.MoranProcess(players, turns=12)"
   ]
  },
  {
   "cell_type": "code",
   "execution_count": 28,
   "metadata": {},
   "outputs": [],
   "source": [
    "populations = mp.play()"
   ]
  },
  {
   "cell_type": "code",
   "execution_count": 29,
   "metadata": {},
   "outputs": [
    {
     "data": {
      "text/plain": [
       "Counter({'Cooperator': 5, 'Defector': 5})"
      ]
     },
     "execution_count": 29,
     "metadata": {},
     "output_type": "execute_result"
    }
   ],
   "source": [
    "populations[0]"
   ]
  },
  {
   "cell_type": "code",
   "execution_count": 30,
   "metadata": {},
   "outputs": [
    {
     "data": {
      "text/plain": [
       "'Defector'"
      ]
     },
     "execution_count": 30,
     "metadata": {},
     "output_type": "execute_result"
    }
   ],
   "source": [
    "mp.winning_strategy_name"
   ]
  },
  {
   "cell_type": "code",
   "execution_count": 31,
   "metadata": {},
   "outputs": [
    {
     "data": {
      "text/plain": [
       "[5,\n",
       " 6,\n",
       " 6,\n",
       " 6,\n",
       " 7,\n",
       " 7,\n",
       " 7,\n",
       " 7,\n",
       " 7,\n",
       " 8,\n",
       " 8,\n",
       " 9,\n",
       " 9,\n",
       " 9,\n",
       " 9,\n",
       " 9,\n",
       " 9,\n",
       " 9,\n",
       " 9,\n",
       " 9,\n",
       " 9,\n",
       " 9,\n",
       " 9,\n",
       " 9,\n",
       " 9,\n",
       " 9,\n",
       " 9,\n",
       " 9,\n",
       " 9,\n",
       " 9,\n",
       " 9,\n",
       " 9,\n",
       " 9,\n",
       " 9,\n",
       " 9,\n",
       " 9,\n",
       " 9,\n",
       " 9,\n",
       " 9,\n",
       " 9,\n",
       " 9,\n",
       " 9,\n",
       " 9,\n",
       " 9,\n",
       " 9,\n",
       " 9,\n",
       " 9,\n",
       " 9,\n",
       " 9,\n",
       " 9,\n",
       " 9,\n",
       " 9,\n",
       " 10]"
      ]
     },
     "execution_count": 31,
     "metadata": {},
     "output_type": "execute_result"
    }
   ],
   "source": [
    "[p['Defector'] for p in populations]"
   ]
  },
  {
   "cell_type": "code",
   "execution_count": 32,
   "metadata": {},
   "outputs": [],
   "source": [
    "players = [ax.Cooperator() for i in range(9)] + [ax.Defector() for i in range(3)] + [ax.TitForTat() for i in range(3)]"
   ]
  },
  {
   "cell_type": "code",
   "execution_count": 33,
   "metadata": {},
   "outputs": [],
   "source": [
    "mp = ax.MoranProcess(players, turns=12)"
   ]
  },
  {
   "cell_type": "code",
   "execution_count": 34,
   "metadata": {},
   "outputs": [],
   "source": [
    "populations = mp.play()"
   ]
  },
  {
   "cell_type": "code",
   "execution_count": 35,
   "metadata": {},
   "outputs": [
    {
     "data": {
      "text/plain": [
       "'Defector'"
      ]
     },
     "execution_count": 35,
     "metadata": {},
     "output_type": "execute_result"
    }
   ],
   "source": [
    "mp.winning_strategy_name"
   ]
  },
  {
   "cell_type": "code",
   "execution_count": 36,
   "metadata": {},
   "outputs": [
    {
     "data": {
      "text/plain": [
       "[3,\n",
       " 4,\n",
       " 4,\n",
       " 5,\n",
       " 5,\n",
       " 5,\n",
       " 6,\n",
       " 5,\n",
       " 5,\n",
       " 5,\n",
       " 6,\n",
       " 7,\n",
       " 6,\n",
       " 7,\n",
       " 8,\n",
       " 7,\n",
       " 6,\n",
       " 5,\n",
       " 5,\n",
       " 5,\n",
       " 5,\n",
       " 5,\n",
       " 4,\n",
       " 5,\n",
       " 5,\n",
       " 6,\n",
       " 7,\n",
       " 6,\n",
       " 6,\n",
       " 5,\n",
       " 4,\n",
       " 5,\n",
       " 6,\n",
       " 5,\n",
       " 6,\n",
       " 7,\n",
       " 8,\n",
       " 8,\n",
       " 8,\n",
       " 8,\n",
       " 9,\n",
       " 9,\n",
       " 9,\n",
       " 9,\n",
       " 9,\n",
       " 10,\n",
       " 10,\n",
       " 9,\n",
       " 9,\n",
       " 10,\n",
       " 10,\n",
       " 10,\n",
       " 11,\n",
       " 12,\n",
       " 12,\n",
       " 12,\n",
       " 13,\n",
       " 13,\n",
       " 13,\n",
       " 13,\n",
       " 13,\n",
       " 13,\n",
       " 13,\n",
       " 13,\n",
       " 13,\n",
       " 13,\n",
       " 13,\n",
       " 13,\n",
       " 12,\n",
       " 12,\n",
       " 11,\n",
       " 12,\n",
       " 12,\n",
       " 12,\n",
       " 12,\n",
       " 12,\n",
       " 11,\n",
       " 11,\n",
       " 11,\n",
       " 11,\n",
       " 11,\n",
       " 11,\n",
       " 10,\n",
       " 10,\n",
       " 10,\n",
       " 10,\n",
       " 10,\n",
       " 10,\n",
       " 11,\n",
       " 12,\n",
       " 13,\n",
       " 13,\n",
       " 13,\n",
       " 13,\n",
       " 13,\n",
       " 13,\n",
       " 13,\n",
       " 13,\n",
       " 14,\n",
       " 15]"
      ]
     },
     "execution_count": 36,
     "metadata": {},
     "output_type": "execute_result"
    }
   ],
   "source": [
    "[p['Defector'] for p in populations]"
   ]
  },
  {
   "cell_type": "code",
   "execution_count": 37,
   "metadata": {},
   "outputs": [
    {
     "data": {
      "text/plain": [
       "[9,\n",
       " 8,\n",
       " 8,\n",
       " 7,\n",
       " 6,\n",
       " 6,\n",
       " 6,\n",
       " 6,\n",
       " 7,\n",
       " 7,\n",
       " 6,\n",
       " 5,\n",
       " 5,\n",
       " 4,\n",
       " 4,\n",
       " 4,\n",
       " 4,\n",
       " 4,\n",
       " 4,\n",
       " 4,\n",
       " 4,\n",
       " 4,\n",
       " 5,\n",
       " 5,\n",
       " 4,\n",
       " 4,\n",
       " 3,\n",
       " 3,\n",
       " 3,\n",
       " 3,\n",
       " 3,\n",
       " 2,\n",
       " 2,\n",
       " 2,\n",
       " 2,\n",
       " 2,\n",
       " 2,\n",
       " 2,\n",
       " 2,\n",
       " 1,\n",
       " 1,\n",
       " 1,\n",
       " 2,\n",
       " 2,\n",
       " 2,\n",
       " 2,\n",
       " 2,\n",
       " 3,\n",
       " 3,\n",
       " 2,\n",
       " 2,\n",
       " 2,\n",
       " 2,\n",
       " 1,\n",
       " 1,\n",
       " 1,\n",
       " 1,\n",
       " 1,\n",
       " 1,\n",
       " 1,\n",
       " 1,\n",
       " 1,\n",
       " 1,\n",
       " 1,\n",
       " 1,\n",
       " 1,\n",
       " 1,\n",
       " 1,\n",
       " 1,\n",
       " 1,\n",
       " 2,\n",
       " 1,\n",
       " 1,\n",
       " 1,\n",
       " 1,\n",
       " 1,\n",
       " 1,\n",
       " 1,\n",
       " 1,\n",
       " 1,\n",
       " 1,\n",
       " 1,\n",
       " 1,\n",
       " 1,\n",
       " 1,\n",
       " 1,\n",
       " 1,\n",
       " 1,\n",
       " 1,\n",
       " 0,\n",
       " 0,\n",
       " 0,\n",
       " 0,\n",
       " 0,\n",
       " 0,\n",
       " 0,\n",
       " 0,\n",
       " 0,\n",
       " 0,\n",
       " 0]"
      ]
     },
     "execution_count": 37,
     "metadata": {},
     "output_type": "execute_result"
    }
   ],
   "source": [
    "[p['Cooperator'] for p in populations]"
   ]
  },
  {
   "cell_type": "code",
   "execution_count": null,
   "metadata": {},
   "outputs": [],
   "source": []
  }
 ],
 "metadata": {
  "kernelspec": {
   "display_name": "Python 3",
   "language": "python",
   "name": "python3"
  },
  "language_info": {
   "codemirror_mode": {
    "name": "ipython",
    "version": 3
   },
   "file_extension": ".py",
   "mimetype": "text/x-python",
   "name": "python",
   "nbconvert_exporter": "python",
   "pygments_lexer": "ipython3",
   "version": "3.7.3"
  }
 },
 "nbformat": 4,
 "nbformat_minor": 4
}
